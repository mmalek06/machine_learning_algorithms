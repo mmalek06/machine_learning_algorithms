{
 "cells": [
  {
   "cell_type": "markdown",
   "source": [
    "If you haven’t read readme.md, do it now please :)"
   ],
   "metadata": {
    "collapsed": false
   }
  },
  {
   "cell_type": "code",
   "execution_count": 14,
   "metadata": {
    "collapsed": true
   },
   "outputs": [],
   "source": [
    "import numpy as np\n",
    "\n",
    "\n",
    "t0, t1 = 5, 50\n",
    "\n",
    "np.random.seed(42)\n",
    "\n",
    "\n",
    "def standardize(X):\n",
    "    for i in range(X.shape[1]):\n",
    "        X[:,i] = (X[:,i] - np.mean(X[:,i]))/np.std(X[:,i])\n",
    "\n",
    "\n",
    "def learning_schedule(t):\n",
    "    return t0 / (t + t1)\n",
    "\n",
    "\n",
    "def sigmoid(z):\n",
    "    return 1.0/(1 + np.exp(-z))"
   ]
  },
  {
   "cell_type": "markdown",
   "source": [
    "The relevant equations are:<br/>\n",
    "$\\sigma={1 \\over 1 + e^-t}$<br />\n",
    "$\\hat{p} = \\sigma(x^T \\theta)$<br/>\n",
    "$\\hat{y} =\\left\\{\n",
    "\\begin{array}{ll}\n",
    "      0, \\hat{p} < 0.5 \\\\\n",
    "      1, \\hat{p} \\geq 0.5\n",
    "\\end{array}\n",
    "\\right.$<br />\n",
    "Notice what's inside the sigma call in that p hat expression is just good old linear expression that's also present in linear regression notebooks. Also, the last equation above represents how logistic regression decides on what class the given sample belongs to. Now onto the cost function: <br/>\n",
    "$c(a)= \\left\\{\n",
    "\\begin{array}{ll}\n",
    "      -log(\\hat{p}), y = 1 \\\\\n",
    "      -log(1 - \\hat{p}), y = 0 \\\\\n",
    "\\end{array}\n",
    "\\right.$<br />\n",
    "The $c(\\theta)$ function is an expression for a single sample, so we're going to transform it to a matrix form. But first - why the logarithm (btw. it's natural log - I didn't use the standard $ln$, because the literature seems to stick with the $log$ name)? From the properties of logarithms we know that they take very small values for very small arguments and grow for larger arguments. That's almost what we want - the target logic should be: take high values for small arguments and get smaller for bigger ones (approaching 1 to be exact). In order to achieve that, we put the minus sign in front of the logarithm. So to integrate all we know, read that whole expression as follows:\n",
    "- When the actual class equals 1, p hat should be high and if it's not penalize it highly, because $-log$ of something small is a big number.\n",
    "- When the actual class equals 0, p hat should be low and if it's not penalize it highly, because $-log$ of 1 minus something big is $-log$ of something small, so a big number again. Notice here that 1 minus a small number will give you something close to that 1. That means that the cost, because of the $-log$ part will be small.\n",
    "\n",
    "Now we'd like to put that piecewise function into a single expression, so that we could differentiate it to find the gradient: <br/>\n",
    "$J(\\theta) = -{1 \\over m} \\sum_{i=1}^m[y^i log(\\hat{p^i}) + (1-y^i)log(1-\\hat{p^i})]$<br />\n",
    "The cost function for the whole algorithm is called $J(\\theta)$. Notice parts of the piecewise function above present in this expression and the ${1 \\over m}$ part - that's there because we average the cost over all training set. But why the additional expressions? Well, you want the value of the first part in one case and the value of the second part in the other case, right? Think about it like this: moving the condition in front of the logarithm will do the job, because:\n",
    "- For the 1 class the value is: $1 * log (\\hat{p}) + (1 - 1) * log(1 - \\hat{p}) = 1 * log (\\hat{p})$\n",
    "- For the 0 class the value is: $0 * log (\\hat{p}) + (1 - 0) * log(1 - \\hat{p}) = 1 * log(1 - \\hat{p})$\n",
    "\n",
    "So this is how the piecewise function collapses into a single expression. Move the minus side in front of it all, add the fraction to get the average, and we're off for a good start to transform it once again, this time into a matrix form. However I won't do that, since it's a [whole lot of math](https://medium.com/@andrewdaviesul/chain-rule-differentiation-log-loss-function-d79f223eae5). I have an alternative explanation: logistic regression is actually the linear regression, jammed into the sigmoid function to get the probabilities, therefore its matrix form derivative should be almost the same except for the presence of sigmoid function. Turns out the gradient formula is exactly that:<br/>\n",
    "$\\nabla_{\\theta}J(\\theta) = {1 \\over m} X^T(\\sigma(X \\theta) - y)$"
   ],
   "metadata": {
    "collapsed": false
   }
  },
  {
   "cell_type": "code",
   "execution_count": 15,
   "outputs": [],
   "source": [
    "def logistic_regression(X, y, theta, epoch, batch_size):\n",
    "    random_idx = np.random.randint(X.shape[0] - batch_size)\n",
    "    xi = X[random_idx:random_idx + batch_size + 1]\n",
    "    yi = y[random_idx:random_idx + batch_size + 1]\n",
    "    gradient = 1/xi.shape[0] * xi.T.dot(sigmoid(xi.dot(theta)) - np.reshape(yi, (len(yi), 1)))\n",
    "    eta = learning_schedule(epoch * xi.shape[0] + 1)\n",
    "\n",
    "    return theta - eta * gradient"
   ],
   "metadata": {
    "collapsed": false
   }
  },
  {
   "cell_type": "markdown",
   "source": [
    "Here I decided to actually define the cost function in order to be able to see how the cost is dropping (or not) - the $J$ function above.<br/>"
   ],
   "metadata": {
    "collapsed": false
   }
  },
  {
   "cell_type": "code",
   "execution_count": 16,
   "outputs": [],
   "source": [
    "def cost(X, theta):\n",
    "    z = X.dot(theta)\n",
    "    cost0 = y.T.dot(np.log(sigmoid(z)))\n",
    "    cost1 = (1 - y).T.dot(np.log(1 - sigmoid(z)))\n",
    "    cost_val = -((cost1 + cost0)) / len(y)\n",
    "\n",
    "    return cost_val"
   ],
   "metadata": {
    "collapsed": false
   }
  },
  {
   "cell_type": "code",
   "execution_count": 17,
   "outputs": [],
   "source": [
    "def predict(X, theta):\n",
    "    z = X.dot(theta)\n",
    "    preds = []\n",
    "\n",
    "    for i in sigmoid(z):\n",
    "        if i > 0.5:\n",
    "            preds.append(1)\n",
    "        else:\n",
    "            preds.append(0)\n",
    "\n",
    "    return preds"
   ],
   "metadata": {
    "collapsed": false
   }
  },
  {
   "cell_type": "code",
   "execution_count": 18,
   "outputs": [
    {
     "data": {
      "text/plain": "<Figure size 640x480 with 1 Axes>",
      "image/png": "[encoded data removed]"
     },
     "metadata": {},
     "output_type": "display_data"
    }
   ],
   "source": [
    "import matplotlib.pyplot as plt\n",
    "\n",
    "\n",
    "x1 = np.random.normal(loc=3.0, size=50)\n",
    "y1 = np.random.normal(loc=2.0, size=50)\n",
    "x2 = np.random.normal(loc=9.0, size=50)\n",
    "y2 = np.random.normal(loc=7.0, size=50)\n",
    "\n",
    "plt.scatter(x1,y1,color='red', marker='+',s=35)\n",
    "plt.scatter(x2,y2,color='blue', marker= '^',s=35)\n",
    "plt.xlim(-5,15)\n",
    "plt.ylim(-5,15)\n",
    "plt.xlabel('$x_1$',fontsize=25)\n",
    "plt.ylabel('$x_2$',fontsize=25)\n",
    "plt.show()"
   ],
   "metadata": {
    "collapsed": false
   }
  },
  {
   "cell_type": "code",
   "execution_count": 19,
   "outputs": [],
   "source": [
    "theta = np.zeros((3, 1))\n",
    "n_epochs = 50\n",
    "X = np.vstack((np.c_[x1, y1], np.c_[x2, y2]))\n",
    "y_true = np.ones((50,))\n",
    "y_false = np.zeros((50,))\n",
    "y = np.hstack((y_true, y_false))\n",
    "X_b = np.c_[np.ones((X.shape[0], 1)), X]\n",
    "costs = []\n",
    "\n",
    "for epoch in range(n_epochs):\n",
    "    for i in range(X.shape[0]):\n",
    "        theta = logistic_regression(X_b, y, theta, epoch, 10)\n",
    "        cost_val = cost(X_b, theta)\n",
    "\n",
    "        costs.append(cost_val)\n",
    "\n",
    "all_preds = predict(X_b, theta)"
   ],
   "metadata": {
    "collapsed": false
   }
  },
  {
   "cell_type": "code",
   "execution_count": 20,
   "outputs": [
    {
     "data": {
      "text/plain": "[0]"
     },
     "execution_count": 20,
     "metadata": {},
     "output_type": "execute_result"
    }
   ],
   "source": [
    "idx = 50\n",
    "\n",
    "predict(np.array([X_b[idx, :]]), theta)"
   ],
   "metadata": {
    "collapsed": false
   }
  },
  {
   "cell_type": "code",
   "execution_count": 21,
   "outputs": [
    {
     "data": {
      "text/plain": "<Figure size 640x480 with 1 Axes>",
      "image/png": "[encoded data removed]"
     },
     "metadata": {},
     "output_type": "display_data"
    }
   ],
   "source": [
    "plt.clf()\n",
    "plt.plot(list(range(len(costs))), costs)\n",
    "plt.show()"
   ],
   "metadata": {
    "collapsed": false
   }
  },
  {
   "cell_type": "code",
   "execution_count": null,
   "outputs": [],
   "source": [],
   "metadata": {
    "collapsed": false
   }
  }
 ],
 "metadata": {
  "kernelspec": {
   "display_name": "Python 3",
   "language": "python",
   "name": "python3"
  },
  "language_info": {
   "codemirror_mode": {
    "name": "ipython",
    "version": 2
   },
   "file_extension": ".py",
   "mimetype": "text/x-python",
   "name": "python",
   "nbconvert_exporter": "python",
   "pygments_lexer": "ipython2",
   "version": "2.7.6"
  }
 },
 "nbformat": 4,
 "nbformat_minor": 0
}
