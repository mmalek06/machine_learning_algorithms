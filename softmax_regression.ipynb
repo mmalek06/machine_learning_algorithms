{
 "cells": [
  {
   "cell_type": "markdown",
   "source": [
    "If you haven’t read readme.md, do it now please :)<br /><br />\n",
    "\n",
    "Also, as far as this algorithm is concerned, I think [this guy](https://towardsdatascience.com/ml-from-scratch-logistic-and-softmax-regression-9f09f49a852c) did a masterful job explaining the code + he also wrote it in prettier manner than I did. What he didn't do though was he didn't explain exactly why cross entropy loss function becomes the binary log loss function if there are only two classes. This transition is quite simple if you think about it, but the first time I saw it I was surprised."
   ],
   "metadata": {
    "collapsed": false
   }
  },
  {
   "cell_type": "code",
   "execution_count": 1,
   "outputs": [],
   "source": [
    "import numpy as np\n",
    "\n",
    "\n",
    "t0, t1 = 5, 50\n",
    "\n",
    "np.random.seed(42)\n",
    "\n",
    "\n",
    "def standardize(X):\n",
    "    for i in range(X.shape[1]):\n",
    "        X[:,i] = (X[:,i] - np.mean(X[:,i]))/np.std(X[:,i])\n",
    "\n",
    "\n",
    "def learning_schedule(t):\n",
    "    return t0 / (t + t1)\n",
    "\n",
    "\n",
    "def softmax(z):\n",
    "    exp = np.exp(z - np.max(z)) # this subtraction part is covered in the blog post I'm linking above - it's for numerical stability\n",
    "\n",
    "    return exp / np.sum(exp)\n"
   ],
   "metadata": {
    "collapsed": false
   }
  },
  {
   "cell_type": "markdown",
   "source": [
    "The cost function is as follows:<br />\n",
    "$J(\\theta) = -{1 \\over m} \\sum_{i=1}^m \\sum_{k=1}^K y_{k}^i log(\\hat{p}_{k}^i)$<br />\n",
    "Now, the binary cross entropy loss function looks a bit different:<br />\n",
    "$J(\\theta) = -{1 \\over m} \\sum_{i=1}^m[y^i log(\\hat{p^i}) + (1-y^i)log(1-\\hat{p^i})]$<br />\n",
    "Let's say we have three classes [0, 1, 2] and let's try expanding the first expression on those classes to see how it behaves:<br />\n",
    "$J(\\theta) = -{1 \\over m} \\sum_{i=1}^m(y_{0}^i log(\\hat{p}_{0}^i) + y_{1}^i log(\\hat{p}_{1}^i) + y_{2}^i log(\\hat{p}_{2}^i)) $<br />\n",
    "Easy - you sum the three expressions for the three classes. Now imagine you have only two classes: [0, 1]. The first's class ground truth is defined as $y_{0}$ and the score is defined as $log(\\hat{p}_{0})$. The second's class ground truth can be defined as $1 - y_{0}$ and the score as $log(1- \\hat_{p}_{0})$. Can you see it - first you multiply contents of the first class and add contents of the other defined in terms of \"subtract the value from the first class expression from one\".<br/>\n",
    " And here it is - a binary cross entropy function in disguised as multiclass cross entropy function :)"
   ],
   "metadata": {
    "collapsed": false
   }
  },
  {
   "cell_type": "code",
   "execution_count": 2,
   "outputs": [],
   "source": [
    "def softmax_regression(X, y, theta, epoch, batch_size):\n",
    "    m = X.shape[0]\n",
    "    random_idx = np.random.randint(X.shape[0] - batch_size)\n",
    "    xi = X[random_idx:random_idx + batch_size + 1]\n",
    "    yi = y[random_idx:random_idx + batch_size + 1]\n",
    "    preds = softmax(xi.dot(theta))\n",
    "    gradient = (1 / m) * xi.T.dot(preds - yi)\n",
    "    eta = learning_schedule(epoch * xi.shape[0] + 1)\n",
    "\n",
    "    return theta - eta * gradient\n",
    "\n",
    "def predict(X, theta):\n",
    "    z = X.dot(theta)\n",
    "\n",
    "    return softmax(z)"
   ],
   "metadata": {
    "collapsed": false
   }
  },
  {
   "cell_type": "code",
   "execution_count": 3,
   "outputs": [
    {
     "data": {
      "text/plain": "<Figure size 640x480 with 1 Axes>",
      "image/png": "[encoded data removed]"
     },
     "metadata": {},
     "output_type": "display_data"
    }
   ],
   "source": [
    "import matplotlib.pyplot as plt\n",
    "\n",
    "\n",
    "x1 = np.random.normal(loc=3.0, size=50)\n",
    "y1 = np.random.normal(loc=2.0, size=50)\n",
    "x2 = np.random.normal(loc=9.0, size=50)\n",
    "y2 = np.random.normal(loc=7.0, size=50)\n",
    "x3 = np.random.normal(loc=16.0, size=50)\n",
    "y3 = np.random.normal(loc=10.0, size=50)\n",
    "\n",
    "plt.scatter(x1,y1,color='red', marker='+',s=35)\n",
    "plt.scatter(x2,y2,color='blue', marker= '^',s=35)\n",
    "plt.scatter(x3,y3,color='yellow', marker='+',s=35)\n",
    "plt.xlim(-5,20)\n",
    "plt.ylim(-5,20)\n",
    "plt.show()"
   ],
   "metadata": {
    "collapsed": false
   }
  },
  {
   "cell_type": "code",
   "execution_count": 4,
   "outputs": [],
   "source": [
    "theta = np.zeros((2, 1))\n",
    "n_epochs = 50\n",
    "X = np.hstack((x1, x2, x3)).reshape(-1, 1)\n",
    "shape = np.zeros([50, 3], dtype=int)\n",
    "y1_true = np.full_like(shape, [1, 0, 0])\n",
    "y2_true = np.full_like(shape, [0, 1, 0])\n",
    "y3_true = np.full_like(shape, [0, 0, 1])\n",
    "y = np.vstack((y1_true, y2_true, y3_true))\n",
    "X_b = np.c_[np.ones((X.shape[0], 1)), X]\n",
    "costs = []\n",
    "\n",
    "for epoch in range(n_epochs):\n",
    "    for i in range(X.shape[0]):\n",
    "        theta = softmax_regression(X_b, y, theta, epoch, 10)"
   ],
   "metadata": {
    "collapsed": false
   }
  },
  {
   "cell_type": "code",
   "execution_count": 5,
   "outputs": [
    {
     "ename": "ValueError",
     "evalue": "shapes (150,1) and (2,3) not aligned: 1 (dim 1) != 2 (dim 0)",
     "output_type": "error",
     "traceback": [
      "\u001B[1;31m---------------------------------------------------------------------------\u001B[0m",
      "\u001B[1;31mValueError\u001B[0m                                Traceback (most recent call last)",
      "\u001B[1;32m~\\AppData\\Local\\Temp\\ipykernel_17376\\847551193.py\u001B[0m in \u001B[0;36m<module>\u001B[1;34m\u001B[0m\n\u001B[1;32m----> 1\u001B[1;33m \u001B[0mpredict\u001B[0m\u001B[1;33m(\u001B[0m\u001B[0mX\u001B[0m\u001B[1;33m,\u001B[0m \u001B[0mtheta\u001B[0m\u001B[1;33m)\u001B[0m\u001B[1;33m\u001B[0m\u001B[1;33m\u001B[0m\u001B[0m\n\u001B[0m",
      "\u001B[1;32m~\\AppData\\Local\\Temp\\ipykernel_17376\\3949182360.py\u001B[0m in \u001B[0;36mpredict\u001B[1;34m(X, theta)\u001B[0m\n\u001B[0;32m     11\u001B[0m \u001B[1;33m\u001B[0m\u001B[0m\n\u001B[0;32m     12\u001B[0m \u001B[1;32mdef\u001B[0m \u001B[0mpredict\u001B[0m\u001B[1;33m(\u001B[0m\u001B[0mX\u001B[0m\u001B[1;33m,\u001B[0m \u001B[0mtheta\u001B[0m\u001B[1;33m)\u001B[0m\u001B[1;33m:\u001B[0m\u001B[1;33m\u001B[0m\u001B[1;33m\u001B[0m\u001B[0m\n\u001B[1;32m---> 13\u001B[1;33m     \u001B[0mz\u001B[0m \u001B[1;33m=\u001B[0m \u001B[0mX\u001B[0m\u001B[1;33m.\u001B[0m\u001B[0mdot\u001B[0m\u001B[1;33m(\u001B[0m\u001B[0mtheta\u001B[0m\u001B[1;33m)\u001B[0m\u001B[1;33m\u001B[0m\u001B[1;33m\u001B[0m\u001B[0m\n\u001B[0m\u001B[0;32m     14\u001B[0m \u001B[1;33m\u001B[0m\u001B[0m\n\u001B[0;32m     15\u001B[0m     \u001B[1;32mreturn\u001B[0m \u001B[0msoftmax\u001B[0m\u001B[1;33m(\u001B[0m\u001B[0mz\u001B[0m\u001B[1;33m)\u001B[0m\u001B[1;33m\u001B[0m\u001B[1;33m\u001B[0m\u001B[0m\n",
      "\u001B[1;31mValueError\u001B[0m: shapes (150,1) and (2,3) not aligned: 1 (dim 1) != 2 (dim 0)"
     ]
    }
   ],
   "source": [
    "predict(X, theta)"
   ],
   "metadata": {
    "collapsed": false
   }
  },
  {
   "cell_type": "code",
   "execution_count": null,
   "outputs": [],
   "source": [],
   "metadata": {
    "collapsed": false
   }
  }
 ],
 "metadata": {
  "kernelspec": {
   "display_name": "Python 3",
   "language": "python",
   "name": "python3"
  },
  "language_info": {
   "codemirror_mode": {
    "name": "ipython",
    "version": 2
   },
   "file_extension": ".py",
   "mimetype": "text/x-python",
   "name": "python",
   "nbconvert_exporter": "python",
   "pygments_lexer": "ipython2",
   "version": "2.7.6"
  }
 },
 "nbformat": 4,
 "nbformat_minor": 0
}
